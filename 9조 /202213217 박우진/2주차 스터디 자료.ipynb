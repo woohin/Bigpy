{
  "cells": [
    {
      "cell_type": "markdown",
      "metadata": {
        "id": "1efv15HqyvPD"
      },
      "source": [
        "## **튜플**"
      ]
    },
    {
      "cell_type": "markdown",
      "metadata": {
        "id": "m4SVTC_QyvPH"
      },
      "source": [
        "### 1. 원소를 'A' 하나만 가지는 튜플을 생성하라."
      ]
    },
    {
      "cell_type": "code",
      "execution_count": 15,
      "metadata": {
        "id": "euJP0zk1yvPH",
        "outputId": "83717c49-ad4b-4cde-e165-117e9e11b72f",
        "colab": {
          "base_uri": "https://localhost:8080/",
          "height": 35
        }
      },
      "outputs": [
        {
          "output_type": "execute_result",
          "data": {
            "text/plain": [
              "'A'"
            ],
            "application/vnd.google.colaboratory.intrinsic+json": {
              "type": "string"
            }
          },
          "metadata": {},
          "execution_count": 15
        }
      ],
      "source": [
        "t1 =(\"A\")\n",
        "t1"
      ]
    },
    {
      "cell_type": "markdown",
      "metadata": {
        "id": "KcAptOr4yvPI"
      },
      "source": [
        "### 2. 오류가 발생한 이유를 튜플의 특징과 관련하여 설명하시오."
      ]
    },
    {
      "cell_type": "code",
      "execution_count": null,
      "metadata": {
        "id": "l1wBVMr5yvPK",
        "outputId": "77bfe764-ec61-407e-8212-8be396e36d2f"
      },
      "outputs": [
        {
          "ename": "TypeError",
          "evalue": "'tuple' object does not support item assignment",
          "output_type": "error",
          "traceback": [
            "\u001b[1;31m---------------------------------------------------------------------------\u001b[0m",
            "\u001b[1;31mTypeError\u001b[0m                                 Traceback (most recent call last)",
            "Cell \u001b[1;32mIn[4], line 4\u001b[0m\n\u001b[0;32m      1\u001b[0m t \u001b[38;5;241m=\u001b[39m (\u001b[38;5;124m'\u001b[39m\u001b[38;5;124mA+\u001b[39m\u001b[38;5;124m'\u001b[39m, \u001b[38;5;124m'\u001b[39m\u001b[38;5;124mA0\u001b[39m\u001b[38;5;124m'\u001b[39m, \u001b[38;5;124m'\u001b[39m\u001b[38;5;124mA\u001b[39m\u001b[38;5;124m'\u001b[39m, \u001b[38;5;124m'\u001b[39m\u001b[38;5;124mB+\u001b[39m\u001b[38;5;124m'\u001b[39m, \u001b[38;5;124m'\u001b[39m\u001b[38;5;124mA+\u001b[39m\u001b[38;5;124m'\u001b[39m)\n\u001b[0;32m      2\u001b[0m \u001b[38;5;28mtype\u001b[39m(t)\n\u001b[1;32m----> 4\u001b[0m \u001b[43mt\u001b[49m\u001b[43m[\u001b[49m\u001b[38;5;241;43m2\u001b[39;49m\u001b[43m]\u001b[49m \u001b[38;5;241m=\u001b[39m \u001b[38;5;124m'\u001b[39m\u001b[38;5;124mB\u001b[39m\u001b[38;5;124m'\u001b[39m\n",
            "\u001b[1;31mTypeError\u001b[0m: 'tuple' object does not support item assignment"
          ]
        }
      ],
      "source": [
        "t = ('A+', 'A0', 'A', 'B+', 'A+')\n",
        "type(t)\n",
        "\n",
        "t[2] = 'B'"
      ]
    },
    {
      "cell_type": "markdown",
      "metadata": {
        "id": "DACDGjopyvPL"
      },
      "source": [
        "튜플은 값이 고정되어서 바뀌지 않는다."
      ]
    },
    {
      "cell_type": "markdown",
      "metadata": {
        "id": "UTLsMy9TyvPL"
      },
      "source": [
        "### 3. 아래의 요소를 튜플로 생성하시오. <br>\n",
        "**20, 4.21, 데이터정보과학부**"
      ]
    },
    {
      "cell_type": "code",
      "execution_count": 17,
      "metadata": {
        "id": "ifqs-DZbyvPL",
        "outputId": "c7c07bd6-9677-40b5-a1c4-9fa475fbbcd7",
        "colab": {
          "base_uri": "https://localhost:8080/"
        }
      },
      "outputs": [
        {
          "output_type": "execute_result",
          "data": {
            "text/plain": [
              "(20, 4.21, '데이터정보과학부')"
            ]
          },
          "metadata": {},
          "execution_count": 17
        }
      ],
      "source": [
        "t = (20, 4.21, \"데이터정보과학부\")\n",
        "t"
      ]
    },
    {
      "cell_type": "markdown",
      "metadata": {
        "id": "DC2ZjeNRyvPN"
      },
      "source": [
        "### 3-1. 위 튜플의 요소를 각각 age, grade, major 변수에 저장하고 출력하세요."
      ]
    },
    {
      "cell_type": "code",
      "execution_count": 23,
      "metadata": {
        "id": "QkksIANfyvPN",
        "outputId": "7b92f633-66ce-44e8-ca36-7e9cb2d22d54",
        "colab": {
          "base_uri": "https://localhost:8080/"
        }
      },
      "outputs": [
        {
          "output_type": "stream",
          "name": "stdout",
          "text": [
            "20 4.21 데이터정보과학부\n"
          ]
        }
      ],
      "source": [
        "age = t[0]\n",
        "grade = t[1]\n",
        "major = t[2]\n",
        "print(age, grade, major)"
      ]
    },
    {
      "cell_type": "markdown",
      "metadata": {
        "id": "4e3bwtYOyvPO"
      },
      "source": [
        "### 3-2. 위의 변수를 활용하여 다음의 문장을 생성하시오.\n",
        "**나는 __살이고 학점은 __이며 _______에 재학 중이다.**<Br>\n",
        "\\*조건: 학점은 소수점 첫째 자리까지만 표현. f-string 방식의 포매팅을 사용하여 위 문장을 생성할 것."
      ]
    },
    {
      "cell_type": "code",
      "execution_count": 35,
      "metadata": {
        "id": "AzJgoCuzyvPO",
        "outputId": "94650588-3a5f-4262-f473-263e16524e16",
        "colab": {
          "base_uri": "https://localhost:8080/"
        }
      },
      "outputs": [
        {
          "output_type": "stream",
          "name": "stdout",
          "text": [
            "나는 20 살이고 학점은 4.2 이며   데이터정보과학부 에 재학 중이다.\n"
          ]
        }
      ],
      "source": [
        "grade = round(grade,1)\n",
        "print(f\"나는 {age} 살이고 학점은 {grade} 이며   {major} 에 재학 중이다.\")"
      ]
    },
    {
      "cell_type": "markdown",
      "metadata": {
        "id": "53cr9s0LyvPP"
      },
      "source": [
        "## **딕셔너리**"
      ]
    },
    {
      "cell_type": "markdown",
      "metadata": {
        "id": "qioByj-vyvPQ"
      },
      "source": [
        "### 1. 다음 표를 딕셔너리 형태로 구현하고 출력하시오. <br>\n",
        "|좌석|잔여석|\n",
        "|------|---|\n",
        "|VIP|0|\n",
        "|스탠딩|1|\n",
        "|지정석 S|1|\n",
        "|지정석 B|0|\n",
        "|지정석 R|2|"
      ]
    },
    {
      "cell_type": "code",
      "execution_count": 37,
      "metadata": {
        "id": "9CYdwsyAyvPQ",
        "outputId": "c73541f8-e7a4-48cb-9876-b5f126dc33e4",
        "colab": {
          "base_uri": "https://localhost:8080/"
        }
      },
      "outputs": [
        {
          "output_type": "execute_result",
          "data": {
            "text/plain": [
              "{'VIP': 0, '스탠딩': 1, '지정석 S': 1, '지정석 B': 0, '지정석 R': 2}"
            ]
          },
          "metadata": {},
          "execution_count": 37
        }
      ],
      "source": [
        "dic = {\"VIP\":0, \"스탠딩\":1, \"지정석 S\":1, \"지정석 B\":0, \"지정석 R\":2}\n",
        "dic"
      ]
    },
    {
      "cell_type": "markdown",
      "metadata": {
        "id": "Rw53OGCKyvPQ"
      },
      "source": [
        "### 1-1. 스탠딩 좌석이 매진되었다. 잔여석을 0으로 바꾸고 결과를 출력하시오."
      ]
    },
    {
      "cell_type": "code",
      "execution_count": 48,
      "metadata": {
        "id": "sl7Nriy3yvPS",
        "outputId": "4c933cc0-a390-4aeb-f013-60778f5dd979",
        "colab": {
          "base_uri": "https://localhost:8080/"
        }
      },
      "outputs": [
        {
          "output_type": "stream",
          "name": "stdout",
          "text": [
            "0\n"
          ]
        }
      ],
      "source": [
        "dic[\"스탠딩\"]=0\n",
        "print(dic[\"스탠딩\"])"
      ]
    },
    {
      "cell_type": "markdown",
      "metadata": {
        "id": "vqEg3tU6yvPS"
      },
      "source": [
        "### 1-2. '지정석 A' 구역과 잔여석 3을 추가하여라."
      ]
    },
    {
      "cell_type": "code",
      "execution_count": 57,
      "metadata": {
        "id": "A86Ao6G0yvPS"
      },
      "outputs": [],
      "source": [
        "dic[\"지정석\"]=\"A\""
      ]
    },
    {
      "cell_type": "markdown",
      "metadata": {
        "id": "fxpxSgm3yvPS"
      },
      "source": [
        "### 2. 다음은 좌표와 좌표에 대응하는 장소 이름이다.\n",
        "|X|Y|장소|\n",
        "|------|---|---|\n",
        "|35.1|29.47|도서관|\n",
        "|22.0|52.7|주택|\n",
        "|82.56|11.77|연구소|\n",
        "\n",
        "### 딕셔너리 형태를 만들되, Key: Value 양식이 **좌표: 장소**로 표현되도록 하시오. <br>\n",
        "\\* 힌트: 좌표는 튜플로 표현한다."
      ]
    },
    {
      "cell_type": "code",
      "execution_count": 58,
      "metadata": {
        "id": "bUPpzZTqyvPT",
        "outputId": "c9e5984f-1416-485f-bbda-a5319ca7e7a7",
        "colab": {
          "base_uri": "https://localhost:8080/"
        }
      },
      "outputs": [
        {
          "output_type": "execute_result",
          "data": {
            "text/plain": [
              "{(35.1, 29.47): '도서관', (22.0, 52.7): '주택', (82.56, 11.77): '연구소'}"
            ]
          },
          "metadata": {},
          "execution_count": 58
        }
      ],
      "source": [
        "t1 = (35.1, 29.47)\n",
        "t2 = (22.0, 52.7)\n",
        "t3 = (82.56, 11.77)\n",
        "dic = {t1:\"도서관\", t2:\"주택\", t3:\"연구소\"}\n",
        "dic"
      ]
    },
    {
      "cell_type": "markdown",
      "metadata": {
        "id": "oyNWASSbyvPU"
      },
      "source": [
        "## **집합**"
      ]
    },
    {
      "cell_type": "markdown",
      "metadata": {
        "id": "TPOGECPGyvPU"
      },
      "source": [
        "### 1. A는 쇼핑, 딸기, 바닐라 라떼를 좋아하고 B는 볼링, 참외, 자장면, 바닐라 라떼를 좋아한다. A가 좋아하는 것과 B가 좋아하는 것을 각각의 **집합**에 담아 표현하시오."
      ]
    },
    {
      "cell_type": "code",
      "execution_count": 72,
      "metadata": {
        "id": "Of1qP33EyvPV",
        "outputId": "ed46a098-a46c-4ca7-9637-4f19ed059988",
        "colab": {
          "base_uri": "https://localhost:8080/"
        }
      },
      "outputs": [
        {
          "output_type": "stream",
          "name": "stdout",
          "text": [
            "{'쇼핑', '딸기', '바닐라 라떼'}\n",
            "{'참외', '볼링', '자장면', '바닐라 라떼'}\n"
          ]
        }
      ],
      "source": [
        "A = set([\"쇼핑\", \"딸기\", \"바닐라 라떼\"])\n",
        "B = set([\"볼링\", \"참외\", \"자장면\", \"바닐라 라떼\"])\n",
        "print(A)\n",
        "print(B)"
      ]
    },
    {
      "cell_type": "markdown",
      "metadata": {
        "id": "08QUWWMcyvPX"
      },
      "source": [
        "### 1-2. A와 B 두 명이 공통적으로 좋아하는 것들을 출력하시오. 단, 집합의 기능 중 하나를 이용하도록 한다."
      ]
    },
    {
      "cell_type": "code",
      "execution_count": 73,
      "metadata": {
        "id": "6eDXe-74yvPX",
        "outputId": "af6afe2e-37e5-4335-8704-420df1887de5",
        "colab": {
          "base_uri": "https://localhost:8080/"
        }
      },
      "outputs": [
        {
          "output_type": "execute_result",
          "data": {
            "text/plain": [
              "{'바닐라 라떼'}"
            ]
          },
          "metadata": {},
          "execution_count": 73
        }
      ],
      "source": [
        "A & B"
      ]
    },
    {
      "cell_type": "markdown",
      "metadata": {
        "id": "S-z_a3RQyvPX"
      },
      "source": [
        "### 1-3. B는 좋아하지 않고 A만 좋아하는 것들을 출력하시오. 단, 집합의 기능 중 하나를 이용하도록 한다."
      ]
    },
    {
      "cell_type": "code",
      "execution_count": 75,
      "metadata": {
        "id": "69JOyxbfyvPX",
        "outputId": "378d45c2-4761-475e-8e29-e177577bed6c",
        "colab": {
          "base_uri": "https://localhost:8080/"
        }
      },
      "outputs": [
        {
          "output_type": "execute_result",
          "data": {
            "text/plain": [
              "{'딸기', '쇼핑'}"
            ]
          },
          "metadata": {},
          "execution_count": 75
        }
      ],
      "source": [
        "A - B"
      ]
    }
  ],
  "metadata": {
    "kernelspec": {
      "display_name": "Python 3",
      "language": "python",
      "name": "python3"
    },
    "language_info": {
      "codemirror_mode": {
        "name": "ipython",
        "version": 3
      },
      "file_extension": ".py",
      "mimetype": "text/x-python",
      "name": "python",
      "nbconvert_exporter": "python",
      "pygments_lexer": "ipython3",
      "version": "3.11.2"
    },
    "colab": {
      "provenance": []
    }
  },
  "nbformat": 4,
  "nbformat_minor": 0
}