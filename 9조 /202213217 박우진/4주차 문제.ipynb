{
  "cells": [
    {
      "cell_type": "markdown",
      "metadata": {
        "id": "pbsD3ZbU33KT"
      },
      "source": [
        "while문으로 Hello World를 10번 출력하시오.\n",
        "(조건문에는 숫자형 변수를 포함하시오)"
      ]
    },
    {
      "cell_type": "code",
      "execution_count": 35,
      "metadata": {
        "id": "jbSEydxm33KW",
        "outputId": "a1737292-3b56-4091-e217-45f061a24404",
        "colab": {
          "base_uri": "https://localhost:8080/"
        }
      },
      "outputs": [
        {
          "output_type": "stream",
          "name": "stdout",
          "text": [
            "Hello World\n",
            "Hello World\n",
            "Hello World\n",
            "Hello World\n",
            "Hello World\n",
            "Hello World\n",
            "Hello World\n",
            "Hello World\n",
            "Hello World\n",
            "Hello World\n"
          ]
        }
      ],
      "source": [
        "hw  = 0\n",
        "while hw < 10:\n",
        "      hw = hw +1\n",
        "      print(\"Hello World\")\n",
        "      if hw == 10:\n",
        "           break;"
      ]
    },
    {
      "cell_type": "markdown",
      "metadata": {
        "id": "wbCbRwZ-33KX"
      },
      "source": [
        "input()함수로 입력값을 받아 조건이 맞을 시 Hello World를 5번 출력하시오"
      ]
    },
    {
      "cell_type": "code",
      "execution_count": 1,
      "metadata": {
        "id": "dOuJMKs633KX",
        "outputId": "8c06bb75-9285-47b5-b41b-9ea4f1ff81cd",
        "colab": {
          "base_uri": "https://localhost:8080/"
        }
      },
      "outputs": [
        {
          "output_type": "stream",
          "name": "stdout",
          "text": [
            "4\n",
            "Hello WorldHello WorldHello WorldHello WorldHello World\n"
          ]
        }
      ],
      "source": [
        "hw=int(input())\n",
        "while hw < 5:\n",
        "      print(\"Hello World\"*5)\n",
        "      break;"
      ]
    },
    {
      "cell_type": "markdown",
      "metadata": {
        "id": "xBMdBs9W33KY"
      },
      "source": [
        "while True:로 시작하는 반복문을 Hello World 출력을 5번 반복 후 루프에서 빠져나가도록 작성하시오."
      ]
    },
    {
      "cell_type": "code",
      "execution_count": 3,
      "metadata": {
        "id": "vvW37W6U33KY",
        "outputId": "714e232d-e959-4911-c57d-09a2aa6b0162",
        "colab": {
          "base_uri": "https://localhost:8080/"
        }
      },
      "outputs": [
        {
          "output_type": "stream",
          "name": "stdout",
          "text": [
            "Hello World\n",
            "Hello World\n",
            "Hello World\n",
            "Hello World\n",
            "Hello World\n"
          ]
        }
      ],
      "source": [
        "hw = 0\n",
        "while True:\n",
        "    print(\"Hello World\")\n",
        "    hw += 1\n",
        "\n",
        "    if hw == 5:\n",
        "        break;\n"
      ]
    },
    {
      "cell_type": "markdown",
      "metadata": {
        "id": "0c_H46-Y33KZ"
      },
      "source": [
        "while 반복문을 사용하여 1부터 10까지 숫자를 출력할 때 짝수는 출력하지 않고 시작점으로 돌아가도록 작성하시오."
      ]
    },
    {
      "cell_type": "code",
      "execution_count": 6,
      "metadata": {
        "id": "4yyKT7M333KZ",
        "outputId": "19408795-7c7b-46ca-f533-36a2e37117c7",
        "colab": {
          "base_uri": "https://localhost:8080/"
        }
      },
      "outputs": [
        {
          "output_type": "stream",
          "name": "stdout",
          "text": [
            "1\n",
            "3\n",
            "5\n",
            "7\n",
            "9\n"
          ]
        }
      ],
      "source": [
        "soo=0\n",
        "while soo < 10:\n",
        "    soo += 1\n",
        "    if soo % 2 == 0:\n",
        "        continue\n",
        "    print(soo)"
      ]
    },
    {
      "cell_type": "markdown",
      "metadata": {
        "id": "hVLnDcOp33KZ"
      },
      "source": [
        "for 문을 이용하여 구구단 2단을 출력하시오"
      ]
    },
    {
      "cell_type": "code",
      "execution_count": 10,
      "metadata": {
        "id": "gu-BF6XB33Ka",
        "outputId": "768fa451-c6fc-4154-ad1e-10eb24375f98",
        "colab": {
          "base_uri": "https://localhost:8080/"
        }
      },
      "outputs": [
        {
          "output_type": "stream",
          "name": "stdout",
          "text": [
            "2 x 1 = 2\n",
            "2 x 2 = 4\n",
            "2 x 3 = 6\n",
            "2 x 4 = 8\n",
            "2 x 5 = 10\n",
            "2 x 6 = 12\n",
            "2 x 7 = 14\n",
            "2 x 8 = 16\n",
            "2 x 9 = 18\n"
          ]
        }
      ],
      "source": [
        "for i in range(1,10):\n",
        "    print(\"2 x\",i,\"=\",2*i)"
      ]
    },
    {
      "cell_type": "markdown",
      "metadata": {
        "id": "YOj3Zgk733Ka"
      },
      "source": [
        "for 문을 이용하여 ['바나나', '사과', '수박']리스트의 요소를 순서대로 하나씩 출력하시오."
      ]
    },
    {
      "cell_type": "code",
      "execution_count": 11,
      "metadata": {
        "id": "9cy1Qow533Kb",
        "outputId": "6fcb2ce3-8b40-424b-86de-708ac8e25ab0",
        "colab": {
          "base_uri": "https://localhost:8080/"
        }
      },
      "outputs": [
        {
          "output_type": "stream",
          "name": "stdout",
          "text": [
            "바나나\n",
            "사과\n",
            "수박\n"
          ]
        }
      ],
      "source": [
        "a=['바나나','사과','수박']\n",
        "for i in a:\n",
        "    print(i)"
      ]
    },
    {
      "cell_type": "markdown",
      "metadata": {
        "id": "IscSZq6333Kb"
      },
      "source": [
        "for문과 range 함수를 이용하여 -7에서 -3까지 출력하시오(range함수에는 음수가 들어가도록 하시오)"
      ]
    },
    {
      "cell_type": "code",
      "execution_count": 12,
      "metadata": {
        "id": "SQvfWc7f33Kb",
        "outputId": "b179169d-9d5a-4873-fd19-f36fa8617fc2",
        "colab": {
          "base_uri": "https://localhost:8080/"
        }
      },
      "outputs": [
        {
          "output_type": "stream",
          "name": "stdout",
          "text": [
            "-7\n",
            "-6\n",
            "-5\n",
            "-4\n",
            "-3\n"
          ]
        }
      ],
      "source": [
        "for i in range(-7,-2):\n",
        "    print(i)"
      ]
    },
    {
      "cell_type": "markdown",
      "metadata": {
        "id": "RBFHaCxZ33Kb"
      },
      "source": [
        "for문과 range만을 이용하여 2부터 10까지 짝수만 출력하시오(반복문 내에서 연산 수행 x)"
      ]
    },
    {
      "cell_type": "code",
      "execution_count": 13,
      "metadata": {
        "id": "n4Q7D8C-33Kc",
        "outputId": "2a4422ae-8f65-40b2-c8d0-cd31c7f3381d",
        "colab": {
          "base_uri": "https://localhost:8080/"
        }
      },
      "outputs": [
        {
          "output_type": "stream",
          "name": "stdout",
          "text": [
            "2\n",
            "4\n",
            "6\n",
            "8\n",
            "10\n"
          ]
        }
      ],
      "source": [
        "for i in range(2,11,2):\n",
        "        print(i)"
      ]
    },
    {
      "cell_type": "markdown",
      "metadata": {
        "id": "phQhb-_a33Kc"
      },
      "source": [
        "for문을 이용하여 Hello world 문자열을 한 글자씩 출력하시오"
      ]
    },
    {
      "cell_type": "code",
      "execution_count": 14,
      "metadata": {
        "id": "jTepNSyn33Kc",
        "outputId": "618fb0b7-a877-448b-be69-4b8e1351daac",
        "colab": {
          "base_uri": "https://localhost:8080/"
        }
      },
      "outputs": [
        {
          "output_type": "stream",
          "name": "stdout",
          "text": [
            "H\n",
            "e\n",
            "l\n",
            "l\n",
            "o\n",
            " \n",
            "w\n",
            "o\n",
            "r\n",
            "l\n",
            "d\n"
          ]
        }
      ],
      "source": [
        "for i in \"Hello world\":\n",
        "    print(i)"
      ]
    },
    {
      "cell_type": "markdown",
      "metadata": {
        "id": "r377Ha-t33Kd"
      },
      "source": [
        "본인의 이름을 입력받아 내 이름은 ㅇㅇㅇ입니다를 반환하는 함수를 만드시오"
      ]
    },
    {
      "cell_type": "code",
      "execution_count": 26,
      "metadata": {
        "id": "wvZFp4jJ33Kd",
        "outputId": "0933830d-612a-4fe1-eb7b-9a3db19e4985",
        "colab": {
          "base_uri": "https://localhost:8080/"
        }
      },
      "outputs": [
        {
          "output_type": "stream",
          "name": "stdout",
          "text": [
            "박우쟌\n",
            "내 이름은 박우쟌 입니다\n"
          ]
        }
      ],
      "source": [
        "def name ():\n",
        "  name=input()\n",
        "  print(\"내 이름은\",name,\"입니다\")\n",
        "name()"
      ]
    },
    {
      "cell_type": "markdown",
      "metadata": {
        "id": "2M9_OxtG33Kd"
      },
      "source": [
        "두 숫자를 입력하면 더하기 빼기 곱하기 나누기를 순서대로 출력하는 함수를 만드시오"
      ]
    },
    {
      "cell_type": "code",
      "source": [
        "a=int(input(print(\"두 숫자를 입력하세요(첫번째)\")))\n",
        "b=int(input(print(\"두 숫자를 입력하세요(두번째)\")))\n",
        "print(a+b)\n",
        "print(a-b)\n",
        "print(a*b)\n",
        "print(a/b)"
      ],
      "metadata": {
        "id": "9klmwH4_IBrS",
        "outputId": "2268599f-bb4e-4d82-ddd4-d62921a1fc77",
        "colab": {
          "base_uri": "https://localhost:8080/"
        }
      },
      "execution_count": 31,
      "outputs": [
        {
          "output_type": "stream",
          "name": "stdout",
          "text": [
            "두 숫자를 입력하세요(첫번째)\n",
            "None2\n",
            "두 숫자를 입력하세요(두번째)\n",
            "None3\n",
            "5\n",
            "-1\n",
            "6\n",
            "0.6666666666666666\n"
          ]
        }
      ]
    },
    {
      "cell_type": "markdown",
      "metadata": {
        "id": "CK-1mmoE33Ke"
      },
      "source": [
        "입력의 수를 모르는 상태에서 입력을 모두 더하여 반환하는 함수를 만드시오"
      ]
    },
    {
      "cell_type": "code",
      "execution_count": 43,
      "metadata": {
        "id": "iGhEAmWN33Ke",
        "outputId": "7c2b6baf-b20f-4204-9650-b9d04603704d",
        "colab": {
          "base_uri": "https://localhost:8080/"
        }
      },
      "outputs": [
        {
          "output_type": "stream",
          "name": "stdout",
          "text": [
            "숫자를 입력하세요 (종료하려면 'f' 입력): 5\n",
            "숫자를 입력하세요 (종료하려면 'f' 입력): 4\n",
            "숫자를 입력하세요 (종료하려면 'f' 입력): f\n",
            "입력한 숫자의 합은: 9\n"
          ]
        }
      ],
      "source": [
        "def sum_1():\n",
        "    a = 0\n",
        "    while True:\n",
        "        b = input(\"숫자를 입력하세요 (종료하려면 'f' 입력): \")\n",
        "\n",
        "        if b == 'f':\n",
        "            break;\n",
        "\n",
        "        a += int(b)\n",
        "\n",
        "    return a\n",
        "\n",
        "h = sum_1()\n",
        "print(\"입력한 숫자의 합은:\", h)"
      ]
    },
    {
      "cell_type": "markdown",
      "metadata": {
        "id": "1swujjjh33Ke"
      },
      "source": [
        "2개의 리스트를 입력받을 때 두 리스트의 길이가 같은지 불 자료형으로 반환하시오"
      ]
    },
    {
      "cell_type": "code",
      "execution_count": 48,
      "metadata": {
        "id": "FfTFtB8l33Kf",
        "outputId": "c1be5992-67d0-4412-bfd9-d3aeb029ef9d",
        "colab": {
          "base_uri": "https://localhost:8080/"
        }
      },
      "outputs": [
        {
          "output_type": "stream",
          "name": "stdout",
          "text": [
            "첫 번째 리스트를 입력하세요 (공백으로 구분): 4 5 6\n",
            "두 번째 리스트를 입력하세요 (공백으로 구분): 5 7 8\n",
            "True\n"
          ]
        }
      ],
      "source": [
        "def vs(list1, list2):\n",
        "    return len(list1) == len(list2)\n",
        "\n",
        "list1 = input(\"첫 번째 리스트를 입력하세요 (공백으로 구분): \").split()\n",
        "list2 = input(\"두 번째 리스트를 입력하세요 (공백으로 구분): \").split()\n",
        "\n",
        "\n",
        "result = vs(list1, list2)\n",
        "print(result)\n"
      ]
    },
    {
      "cell_type": "markdown",
      "metadata": {
        "id": "kdKxCyOL33Kf"
      },
      "source": [
        "두개의 리스트를 입력받고 위에서 만든 함수를 이용해 두 리스트의 길이가 같다고 판별되면 두 리스트를 이용하여 딕셔너리를 만들어 반환하는 함수를 만드시오"
      ]
    },
    {
      "cell_type": "code",
      "execution_count": 50,
      "metadata": {
        "id": "kMCRx2RO33Kg",
        "outputId": "61a03e3d-61f7-46ca-ecef-ce733559fa92",
        "colab": {
          "base_uri": "https://localhost:8080/"
        }
      },
      "outputs": [
        {
          "output_type": "stream",
          "name": "stdout",
          "text": [
            "첫 번째 리스트를 입력하세요 (공백으로 구분): 3 4 5\n",
            "두 번째 리스트를 입력하세요 (공백으로 구분): 5 8 9\n",
            "생성된 딕셔너리: {'3': '5', '4': '8', '5': '9'}\n"
          ]
        }
      ],
      "source": [
        "list3 = input(\"첫 번째 리스트를 입력하세요 (공백으로 구분): \").split()\n",
        "list4 = input(\"두 번째 리스트를 입력하세요 (공백으로 구분): \").split()\n",
        "\n",
        "if vs(list3, list4):\n",
        "  new = dict(zip(list3, list4))\n",
        "    print(\"생성된 딕셔너리:\", new)\n",
        "else:\n",
        "    print(\"두 리스트의 길이가 다릅니다\")"
      ]
    },
    {
      "cell_type": "markdown",
      "metadata": {
        "id": "IqGr2_YU33Kg"
      },
      "source": [
        "글로벌 변수를 이용하여 plus() 함수가 수행될 때마다 변수에 5가 더해지도록 함수를 정의하시오"
      ]
    },
    {
      "cell_type": "code",
      "execution_count": 56,
      "metadata": {
        "id": "HZchgs3J33Kh",
        "outputId": "f189dc8d-492f-42e2-afe1-b5e6bad78a32",
        "colab": {
          "base_uri": "https://localhost:8080/"
        }
      },
      "outputs": [
        {
          "output_type": "stream",
          "name": "stdout",
          "text": [
            "5\n"
          ]
        },
        {
          "output_type": "execute_result",
          "data": {
            "text/plain": [
              "10"
            ]
          },
          "metadata": {},
          "execution_count": 56
        }
      ],
      "source": [
        "five = 0\n",
        "\n",
        "def plus():\n",
        "    global five\n",
        "    five += 5\n",
        "plus()\n",
        "print(five)\n",
        "plus()\n",
        "five\n",
        "\n"
      ]
    }
  ],
  "metadata": {
    "kernelspec": {
      "display_name": "base",
      "language": "python",
      "name": "python3"
    },
    "language_info": {
      "codemirror_mode": {
        "name": "ipython",
        "version": 3
      },
      "file_extension": ".py",
      "mimetype": "text/x-python",
      "name": "python",
      "nbconvert_exporter": "python",
      "pygments_lexer": "ipython3",
      "version": "3.12.4"
    },
    "colab": {
      "provenance": []
    }
  },
  "nbformat": 4,
  "nbformat_minor": 0
}